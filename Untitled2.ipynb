{
 "cells": [
  {
   "cell_type": "code",
   "execution_count": 1,
   "id": "06895f2f-bac0-43bc-ab12-f69558360bc7",
   "metadata": {},
   "outputs": [
    {
     "data": {
      "text/plain": [
       "['P', 'W', 'S', 'K', 'I', 'L', 'S']"
      ]
     },
     "execution_count": 1,
     "metadata": {},
     "output_type": "execute_result"
    }
   ],
   "source": [
    "# 7que\n",
    "kk='pwskils'\n",
    "list(map(lambda kk:kk.upper(),kk))"
   ]
  },
  {
   "cell_type": "code",
   "execution_count": 2,
   "id": "7fa11bd3-df1b-4401-b0c9-1a9cd5e7aaba",
   "metadata": {},
   "outputs": [],
   "source": [
    "# 1 que\n",
    "# keyword - 'def' is used to create function."
   ]
  },
  {
   "cell_type": "code",
   "execution_count": 3,
   "id": "c4fd9016-c395-4297-b459-c197323186f5",
   "metadata": {},
   "outputs": [
    {
     "name": "stdout",
     "output_type": "stream",
     "text": [
      "[1, 3, 5, 7, 9, 11, 13, 15, 17, 19, 21, 23, 25]\n"
     ]
    }
   ],
   "source": [
    "def odd():\n",
    "    odd_list=[]\n",
    "    for i in range(1,26):\n",
    "        if i%2!=0:\n",
    "            odd_list.append(i)\n",
    "    return odd_list\n",
    "print(odd())"
   ]
  },
  {
   "cell_type": "code",
   "execution_count": 4,
   "id": "7421c3dc-750d-4f2c-964b-92475c4f9b77",
   "metadata": {},
   "outputs": [],
   "source": [
    "# 2 que\n",
    "# With the help of Why *args and **kwargs, we can enter n number of data in list."
   ]
  },
  {
   "cell_type": "code",
   "execution_count": 5,
   "id": "8cfd3226-5d29-4de3-9266-c98c4cd83ed8",
   "metadata": {},
   "outputs": [
    {
     "data": {
      "text/plain": [
       "(1, 3, 4, 'copied', 'laptop')"
      ]
     },
     "execution_count": 5,
     "metadata": {},
     "output_type": "execute_result"
    }
   ],
   "source": [
    "def book(*args):\n",
    "    return args\n",
    "book(1,3,4,'copied','laptop')"
   ]
  },
  {
   "cell_type": "code",
   "execution_count": 6,
   "id": "557bee1f-417d-4f64-a064-4ed06c65dca0",
   "metadata": {},
   "outputs": [
    {
     "data": {
      "text/plain": [
       "{'we': [2, 3, 4, 6], 'are': ['ji', 43, 45]}"
      ]
     },
     "execution_count": 6,
     "metadata": {},
     "output_type": "execute_result"
    }
   ],
   "source": [
    "def books(**kwargs):\n",
    "    return kwargs\n",
    "books(we=[2,3,4,6], are=['ji',43,45])"
   ]
  },
  {
   "cell_type": "code",
   "execution_count": 7,
   "id": "39c0cc1b-0b6b-4487-9e01-8a9ced96de79",
   "metadata": {},
   "outputs": [],
   "source": [
    "# 3 que\n",
    "#  Iterator - it is abject that produces next value\n",
    "#  The method used to initialize the iterator object is - iter()\n",
    "#  The method used for iteration is next() "
   ]
  },
  {
   "cell_type": "code",
   "execution_count": 8,
   "id": "067fee73-21df-46e2-8a86-f5f94de5e850",
   "metadata": {},
   "outputs": [],
   "source": [
    "list= [2, 4, 6, 8, 10, 12, 14, 16, 18, 20]"
   ]
  },
  {
   "cell_type": "code",
   "execution_count": 9,
   "id": "e9073837-936b-4748-856c-c8ad9397ab68",
   "metadata": {},
   "outputs": [],
   "source": [
    "a=iter(list)"
   ]
  },
  {
   "cell_type": "code",
   "execution_count": 10,
   "id": "282e84b2-4468-4b40-864f-5ad47afed845",
   "metadata": {},
   "outputs": [
    {
     "data": {
      "text/plain": [
       "2"
      ]
     },
     "execution_count": 10,
     "metadata": {},
     "output_type": "execute_result"
    }
   ],
   "source": [
    "next(a)"
   ]
  },
  {
   "cell_type": "code",
   "execution_count": 11,
   "id": "f4a84286-f1aa-4726-948c-da772aa3ceee",
   "metadata": {},
   "outputs": [
    {
     "data": {
      "text/plain": [
       "4"
      ]
     },
     "execution_count": 11,
     "metadata": {},
     "output_type": "execute_result"
    }
   ],
   "source": [
    "next(a)"
   ]
  },
  {
   "cell_type": "code",
   "execution_count": 12,
   "id": "60c50a34-47a3-4943-ad18-cb80b81d6cca",
   "metadata": {},
   "outputs": [
    {
     "data": {
      "text/plain": [
       "6"
      ]
     },
     "execution_count": 12,
     "metadata": {},
     "output_type": "execute_result"
    }
   ],
   "source": [
    "next(a)"
   ]
  },
  {
   "cell_type": "code",
   "execution_count": 13,
   "id": "101535f2-e391-441d-a453-70a120ba0429",
   "metadata": {},
   "outputs": [
    {
     "data": {
      "text/plain": [
       "8"
      ]
     },
     "execution_count": 13,
     "metadata": {},
     "output_type": "execute_result"
    }
   ],
   "source": [
    "next(a)"
   ]
  },
  {
   "cell_type": "code",
   "execution_count": 14,
   "id": "a3e98cc9-94f0-45b8-80e9-0c5f2b63dc8c",
   "metadata": {},
   "outputs": [
    {
     "data": {
      "text/plain": [
       "10"
      ]
     },
     "execution_count": 14,
     "metadata": {},
     "output_type": "execute_result"
    }
   ],
   "source": [
    "next(a)"
   ]
  },
  {
   "cell_type": "code",
   "execution_count": 15,
   "id": "b073b28e-b6bc-4b75-a71c-3d764a43c0c8",
   "metadata": {},
   "outputs": [],
   "source": [
    "# 4que\n",
    "# A generator function is a function that uses yield keyword instead of return.\n",
    "# A yield keyword is used to generate the value of series that can be iterated."
   ]
  },
  {
   "cell_type": "code",
   "execution_count": 16,
   "id": "33d2675c-72d3-4ac0-bcb9-b36837c6fd8e",
   "metadata": {},
   "outputs": [
    {
     "name": "stdout",
     "output_type": "stream",
     "text": [
      "2\n",
      "3\n",
      "5\n",
      "8\n",
      "13\n"
     ]
    }
   ],
   "source": [
    "def generator(n):\n",
    "    a,b=2,3\n",
    "    for i in range(n):\n",
    "        yield a\n",
    "        a,b=b,a+b\n",
    "for i in generator(5):\n",
    "    print(i)"
   ]
  },
  {
   "cell_type": "code",
   "execution_count": 17,
   "id": "9f0d45f6-bb93-4b91-96e3-56946c83ac46",
   "metadata": {},
   "outputs": [
    {
     "name": "stdout",
     "output_type": "stream",
     "text": [
      "0\n",
      "1\n",
      "1\n",
      "2\n",
      "3\n",
      "5\n",
      "8\n",
      "13\n",
      "21\n",
      "34\n"
     ]
    }
   ],
   "source": [
    "# 6que\n",
    "def loop():\n",
    "    a,b=0,1\n",
    "    while True:\n",
    "        yield a\n",
    "        a,b=b,a+b\n",
    "l1=loop()\n",
    "for i in range(10):\n",
    "    print(next(l1))"
   ]
  },
  {
   "cell_type": "code",
   "execution_count": null,
   "id": "20d8bd38-268e-4af6-9ef7-b23d9748466d",
   "metadata": {},
   "outputs": [],
   "source": [
    "# 8 que\n",
    "tt=int(input('enter your number'))\n",
    "rev=0\n",
    "x=tt\n",
    "while tt>0:\n",
    "    rev=(rev*10)+tt%10\n",
    "    tt=tt//10\n",
    "if x==rev:\n",
    "    print('number is palindrome')\n",
    "else:\n",
    "    print('number is not palindrome')"
   ]
  },
  {
   "cell_type": "code",
   "execution_count": null,
   "id": "b55a5ca2-9550-4abc-9020-ff70cf2bb2c9",
   "metadata": {},
   "outputs": [],
   "source": []
  }
 ],
 "metadata": {
  "kernelspec": {
   "display_name": "Python 3 (ipykernel)",
   "language": "python",
   "name": "python3"
  },
  "language_info": {
   "codemirror_mode": {
    "name": "ipython",
    "version": 3
   },
   "file_extension": ".py",
   "mimetype": "text/x-python",
   "name": "python",
   "nbconvert_exporter": "python",
   "pygments_lexer": "ipython3",
   "version": "3.10.8"
  }
 },
 "nbformat": 4,
 "nbformat_minor": 5
}
